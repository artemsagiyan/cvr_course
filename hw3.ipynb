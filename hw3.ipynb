{
  "nbformat": 4,
  "nbformat_minor": 0,
  "metadata": {
    "colab": {
      "provenance": []
    },
    "kernelspec": {
      "name": "python3",
      "display_name": "Python 3"
    },
    "language_info": {
      "name": "python"
    }
  },
  "cells": [
    {
      "cell_type": "code",
      "source": [
        "import cv2 as cv\n",
        "import numpy as np\n",
        "\n",
        "ref_path = \"../data/ref.jpg\"\n",
        "vid_path = \"../data/vid.mp4\"\n",
        "\n",
        "reference = cv.imread(ref_path)\n",
        "cam = cv.VideoCapture(vid_path)\n",
        "\n",
        "skip_frame_reading = False\n",
        "ret, frame = cam.read()\n",
        "frame_gray = cv.cvtColor(frame, cv.COLOR_BGR2GRAY)\n",
        "ref_gray = cv.cvtColor(reference, cv.COLOR_BGR2GRAY)\n",
        "orb = cv.ORB_create()\n",
        "\n",
        "while(True):\n",
        "    if (skip_frame_reading == False):\n",
        "        ret, frame = cam.read()\n",
        "\n",
        "    if (ret == False):\n",
        "        cam.release()\n",
        "        cam = cv.VideoCapture(vid_path)\n",
        "        continue\n",
        "        frame_gray = cv.cvtColor(frame, cv.COLOR_BGR2GRAY)\n",
        "\n",
        "    keypoints1, des1 = orb.detectAndCompute(ref_gray, None)\n",
        "    keypoints2, des2 = orb.detectAndCompute(frame_gray, None)\n",
        "    bf = cv.BFMatcher(cv.NORM_HAMMING, crossCheck=True)\n",
        "    matches = bf.match(des1,des2)\n",
        "    matches = sorted(matches, key = lambda x:x.distance)\n",
        "    result = cv.drawMatches(reference, keypoints1, frame, keypoints2, matches[:30], None,\n",
        "                          flags=cv.DrawMatchesFlags_NOT_DRAW_SINGLE_POINTS)\n",
        "    \n",
        "    cv.imshow(\"matched\", result)\n",
        "    key = cv.waitKey(240) & 0xFF\n",
        "    \n",
        "    if (key == ord('q')):\n",
        "        break\n",
        "\n",
        "    if (key == 32):\n",
        "        skip_frame_reading = not skip_frame_reading\n",
        "\n",
        "cam.release()\n",
        "cv.destroyAllWindows()\n",
        "cv.waitKey(10)"
      ],
      "metadata": {
        "id": "VJPZrhb7qSzX"
      },
      "execution_count": null,
      "outputs": []
    }
  ]
}